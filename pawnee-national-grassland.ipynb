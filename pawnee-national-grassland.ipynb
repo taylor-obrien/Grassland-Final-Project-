{
 "cells": [
  {
   "cell_type": "code",
   "execution_count": 17,
   "metadata": {},
   "outputs": [],
   "source": [
    "# Import packages and set up directory\n",
    "\n",
    "import os\n",
    "from glob import glob\n",
    "import warnings\n",
    "\n",
    "import earthpy as et\n",
    "import earthpy.appeears as etapp\n",
    "import geopandas as gpd\n",
    "import hvplot.pandas\n",
    "import hvplot.xarray\n",
    "import holoviews as hv\n",
    "import numpy as np\n",
    "import pandas as pd\n",
    "import rioxarray as rxr\n",
    "import rioxarray.merge as rxrmerge\n",
    "import xarray as xr\n",
    "import requests\n",
    "import xrspatial\n",
    "\n",
    "# Assign variable to coordiate system for use\n",
    "utm_epsg = 32614\n",
    "\n",
    "# Ignore FutureWarning coming from hvplot\n",
    "warnings.simplefilter(action='ignore', category=FutureWarning)\n",
    "\n",
    "# Set up directory\n",
    "data_dir = os.path.join(et.io.HOME, et.io.DATA_NAME)\n",
    "grass_dir = os.path.join(data_dir, 'grassland-sites')\n",
    "\n",
    "for a_dir in [grass_dir]:\n",
    "        if not os.path.exists(a_dir):\n",
    "                os.makedirs(a_dir)"
   ]
  },
  {
   "cell_type": "code",
   "execution_count": 18,
   "metadata": {},
   "outputs": [],
   "source": [
    "# Create a path\n",
    "grass_path = os.path.join(grass_dir, 'grassland.shp')\n",
    "\n",
    "# Read in URL\n",
    "if not os.path.exists(grass_path):\n",
    "    grass_url = (\n",
    "        'https://data.fs.usda.gov/geodata/edw/edw_resources/'\n",
    "        'shp/S_USA.NationalGrassland.zip')\n",
    "    gpd.read_file(grass_url).to_file(grass_path)\n",
    "\n",
    "# Read file as a geodataframe\n",
    "grass_gdf = (\n",
    "    gpd.read_file(grass_path)\n",
    "    .to_crs(utm_epsg))\n",
    "\n",
    "# Create geodataframe for specific grassland\n",
    "pawnee_gdf = (\n",
    "    grass_gdf\n",
    "    .set_index('GRASSLANDN')\n",
    "    .to_crs(utm_epsg)\n",
    "     .loc[['Pawnee National Grassland']]\n",
    ")"
   ]
  },
  {
   "cell_type": "code",
   "execution_count": 19,
   "metadata": {},
   "outputs": [],
   "source": [
    "# Soil variable urls\n",
    "\n",
    "pawnee_soil_url = ('http://hydrology.cee.duke.edu/POLARIS/PROPERTIES/'\n",
    "                   'v1.0/ph/mean/0_5/lat4041_lon-104-103.tif')\n",
    "\n",
    "pawnee_soil_url_1 = ('http://hydrology.cee.duke.edu/POLARIS/PROPERTIES/'\n",
    "                     'v1.0/ph/mean/0_5/lat4041_lon-105-104.tif')\n",
    "\n",
    "# Open soil rasters\n",
    "\n",
    "pawnee_soil = rxr.open_rasterio(pawnee_soil_url, masked=True).squeeze()\n",
    "\n",
    "pawnee_soil_1 = rxr.open_rasterio(pawnee_soil_url_1, masked=True).squeeze()"
   ]
  },
  {
   "cell_type": "code",
   "execution_count": 20,
   "metadata": {},
   "outputs": [],
   "source": [
    "# Merge the Pawnee soil rasters\n",
    "\n",
    "pawnee_soil_list = [pawnee_soil, pawnee_soil_1]\n",
    "pawnee_soil_merge = (\n",
    "    rxrmerge.merge_arrays(pawnee_soil_list)\n",
    "    .rio.reproject(utm_epsg)\n",
    "    .rio.clip_box(*pawnee_gdf.total_bounds))\n",
    "\n",
    "# Overlay the grassland and soil raster\n",
    "# pawnee_soil_merge.hvplot() * pawnee_gdf.hvplot(color=None, line_color='white')"
   ]
  },
  {
   "cell_type": "code",
   "execution_count": 21,
   "metadata": {},
   "outputs": [
    {
     "data": {
      "text/plain": [
       "<earthpy.appeears.AppeearsDownloader at 0x21900987790>"
      ]
     },
     "execution_count": 21,
     "metadata": {},
     "output_type": "execute_result"
    }
   ],
   "source": [
    "# Initialize AppeearsDownloader for MODIS elevation data in Sheyenne\n",
    "\n",
    "elev_downloader = etapp.AppeearsDownloader(\n",
    "    download_key=\"pawnee_SRTM_DEM\",\n",
    "    product=\"SRTMGL1_NC.003\",\n",
    "    layer=\"SRTMGL1_DEM\",\n",
    "    start_date=\"02-11-2000\",\n",
    "    end_date=\"02-21-2000\",\n",
    "    polygon=pawnee_gdf)\n",
    "\n",
    "# Download files if the download directory does not exist\n",
    "\n",
    "if not os.path.exists(os.path.join(elev_downloader.data_dir, 'SRTMGL1-NUMNC-003-SRTMGL1-NUM-Statistics-QA.csv')):\n",
    "    elev_downloader.download_files()\n",
    "\n",
    "elev_downloader"
   ]
  },
  {
   "cell_type": "code",
   "execution_count": 22,
   "metadata": {},
   "outputs": [],
   "source": [
    "# Merge arrays and reproject elevation\n",
    "\n",
    "elev_paths = glob(\n",
    "    os.path.join(\n",
    "        elev_downloader.data_dir,\n",
    "        'SRTMGL1_NC.003*',\n",
    "        '*.tif'))\n",
    "elev_da = (\n",
    "    rxrmerge.merge_arrays(\n",
    "        [rxr.open_rasterio(elev_path, masked=True).squeeze()\n",
    "         for elev_path\n",
    "         in elev_paths])\n",
    "         .rio.reproject_match(pawnee_soil_merge)\n",
    ")"
   ]
  },
  {
   "cell_type": "code",
   "execution_count": 23,
   "metadata": {},
   "outputs": [],
   "source": [
    "# Calculate aspect for Pawnee\n",
    "\n",
    "pawnee_aspect = xrspatial.aspect(elev_da)\n",
    "# pawnee_aspect.hvplot(x='x', y='y', colormap='colorwheel')"
   ]
  },
  {
   "cell_type": "code",
   "execution_count": 24,
   "metadata": {},
   "outputs": [],
   "source": [
    "# Download the Climatology Data for RCP 4.5\n",
    "\n",
    "if not os.path.exists('maca_45.nc'):\n",
    "    maca_45_url = (\n",
    "        \"http://thredds.northwestknowledge.net:8080/thredds/ncss/\"\n",
    "        \"agg_macav2metdata_pr_CCSM4_r6i1p1_rcp45_2006_2099_CONUS_monthly.nc\"\n",
    "        \"?var=precipitation&disableLLSubset=on&disableProjSubset=on&horizStride=1\"\n",
    "        \"&time_start=2050-01-15T00%3A00%3A00Z\"\n",
    "        \"&time_end=2050-12-15T00%3A00%3A00Z&timeStride=1&accept=netcdf\")\n",
    "\n",
    "    maca_response = requests.get(maca_45_url)\n",
    "\n",
    "    with open('maca_45.nc', 'wb') as maca_file:\n",
    "        maca_file.write(maca_response.content)"
   ]
  },
  {
   "cell_type": "code",
   "execution_count": 25,
   "metadata": {},
   "outputs": [],
   "source": [
    "# Data manipulation for Pawnee\n",
    "maca_45_ds = xr.open_dataset('maca_45.nc')\n",
    "# Reassign the Coordinates to match other datasets\n",
    "maca_45_ds = maca_45_ds.assign_coords(lon=maca_45_ds.lon-360)\n",
    "# Pull precipitation variable\n",
    "precip_45_ds = maca_45_ds.precipitation\n",
    "# Write the CRS\n",
    "precip_45_ds.rio.write_crs(\"epsg:4326\", inplace=True)\n",
    "# Setting spatial dimensions\n",
    "precip_45_ds.rio.set_spatial_dims('lon', 'lat', inplace=True)\n",
    "# Reproject\n",
    "precip_45_ds = precip_45_ds.rio.reproject_match(pawnee_soil_merge)\n",
    "# Clip for Pawnee\n",
    "precip_45_clip = precip_45_ds.rio.clip_box(*pawnee_gdf.total_bounds).mean('time')\n",
    "# Plot the data\n",
    "#precip_45_clip.hvplot(rasterize=True) * pawnee_gdf.hvplot(color='None')"
   ]
  },
  {
   "cell_type": "code",
   "execution_count": 26,
   "metadata": {},
   "outputs": [],
   "source": [
    "# Download the Climatology Data for RCP 8.5\n",
    "\n",
    "if not os.path.exists('maca_85.nc'):\n",
    "    maca_85_url = (\n",
    "        \"http://thredds.northwestknowledge.net:8080/thredds/ncss/\"\n",
    "        \"agg_macav2metdata_pr_CCSM4_r6i1p1_rcp85_2006_2099_CONUS_monthly.nc\"\n",
    "        \"?var=precipitation&disableLLSubset=on&disableProjSubset=on&horizStride=1\"\n",
    "        \"&time_start=2050-01-15T00%3A00%3A00Z&time_end=2050-12-15T00%3A00%3A00Z\"\n",
    "        \"&timeStride=1&accept=netcdf\"\n",
    "    )\n",
    "\n",
    "    maca_response = requests.get(maca_85_url)\n",
    "\n",
    "    with open('maca_85.nc', 'wb') as maca_file:\n",
    "        maca_file.write(maca_response.content)"
   ]
  },
  {
   "cell_type": "code",
   "execution_count": 27,
   "metadata": {},
   "outputs": [],
   "source": [
    "# Data manipulation for RCP 8.5\n",
    "maca_85_ds = xr.open_dataset('maca_85.nc')\n",
    "# Reassign the Coordinates to match other datasets\n",
    "maca_85_ds = maca_85_ds.assign_coords(lon=maca_85_ds.lon-360)\n",
    "# Pull precipitation variable\n",
    "precip_85_ds = maca_85_ds.precipitation\n",
    "# Write the CRS\n",
    "precip_85_ds.rio.write_crs(\"epsg:4326\", inplace=True)\n",
    "# Setting spatial dimensions\n",
    "precip_85_ds.rio.set_spatial_dims('lon', 'lat', inplace=True)\n",
    "# Reproject\n",
    "precip_85_ds = precip_85_ds.rio.reproject_match(pawnee_soil_merge)\n",
    "# Clip to Pawnee\n",
    "precip_85_clip = precip_85_ds.rio.clip_box(*pawnee_gdf.total_bounds).mean('time')\n",
    "# Plot the data\n",
    "#precip_85_clip.hvplot(rasterize=True) * pawnee_gdf.hvplot(color=None)"
   ]
  },
  {
   "cell_type": "code",
   "execution_count": 28,
   "metadata": {},
   "outputs": [],
   "source": [
    "# Fuzzy Logic Model\n",
    "\n",
    "# Assign a value of 1 to aspect for favorable conditions\n",
    "p_rescale = xr.where(pawnee_aspect > 180, pawnee_aspect - 180, pawnee_aspect)\n",
    "final_scale = (p_rescale) / (180)"
   ]
  },
  {
   "cell_type": "code",
   "execution_count": 29,
   "metadata": {},
   "outputs": [],
   "source": [
    "# Assign a value of 1 to pH for favorable conditions\n",
    "ph_rescale = xr.where(pawnee_soil_merge > 6.5, 6.5 + (6.5 - pawnee_soil_merge), pawnee_soil_merge)\n",
    "final_ph_scale = (ph_rescale - ph_rescale.min()) / (ph_rescale.max() - ph_rescale.min())"
   ]
  },
  {
   "cell_type": "code",
   "execution_count": 30,
   "metadata": {},
   "outputs": [],
   "source": [
    "# Assign a value of 1 to precip for favorable conditions\n",
    "precip_rescale_45 = xr.where(precip_45_clip > 24, 24 + (24 - precip_45_clip), precip_45_clip)\n",
    "final_precip_scale_45 = (precip_rescale_45 - precip_rescale_45.min()) / (24 - precip_rescale_45.min())\n",
    "\n",
    "precip_rescale_85 = xr.where(precip_85_clip > 24, 24 + (24 - precip_85_clip), precip_85_clip)\n",
    "final_precip_scale_85 = (precip_rescale_85 - precip_rescale_85.min()) / (24 - precip_rescale_85.min())"
   ]
  },
  {
   "cell_type": "code",
   "execution_count": 31,
   "metadata": {},
   "outputs": [],
   "source": [
    "# Final Model for RCP 4.5- uncomment last line to see plot\n",
    "\n",
    "model_45 = final_precip_scale_45 * final_ph_scale * final_scale\n",
    "model_45 = model_45.rio.write_crs(utm_epsg)\n",
    "model_45_clip = model_45.rio.clip(pawnee_gdf.geometry)\n",
    "# model_45_clip.hvplot() * pawnee_gdf.hvplot(color=None)"
   ]
  },
  {
   "cell_type": "code",
   "execution_count": 32,
   "metadata": {},
   "outputs": [],
   "source": [
    "# Final Model for RCP 8.5- uncomment last line to see plot\n",
    "\n",
    "model_85 = final_precip_scale_85 * final_ph_scale * final_scale\n",
    "model_85 = model_85.rio.write_crs(utm_epsg)\n",
    "model_85_clip = model_85.rio.clip(pawnee_gdf.geometry)\n",
    "# model_85_clip.hvplot() * pawnee_gdf.hvplot(color=None)"
   ]
  }
 ],
 "metadata": {
  "kernelspec": {
   "display_name": "earth-analytics-python",
   "language": "python",
   "name": "python3"
  },
  "language_info": {
   "codemirror_mode": {
    "name": "ipython",
    "version": 3
   },
   "file_extension": ".py",
   "mimetype": "text/x-python",
   "name": "python",
   "nbconvert_exporter": "python",
   "pygments_lexer": "ipython3",
   "version": "3.10.13"
  }
 },
 "nbformat": 4,
 "nbformat_minor": 2
}
