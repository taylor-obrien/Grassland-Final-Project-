{
 "cells": [
  {
   "cell_type": "markdown",
   "metadata": {},
   "source": [
    "## Grassland Management Under Climate Change\n",
    "\n",
    "As climate change alters habitat suitability for plants and animals, it is important to look at how key grassland species are moving with this change. Over the last 50 years, grassland species suitable habitats have moved northward (Sorghastrum 2023). Climate change poses threats to grassland restoration projects and management, so it is important to understand how future changes can be anticipated for these practices (Kane et al 2017).\n",
    "\n",
    "For this project, I will be taking two grasslands within the state of Colorado to look at the suitability of the grass, Sorghastrum Nutans. I will be creating a suitability model for S. Nutans in both grasslands under RCP 4.5 and RCP 8.5 in the year 2050 to visualize where these grasses would most likely thrive. These are the steps taken below to complete the model:\n",
    "- Downloaded, reprojected, and clipped pH, elevation, and climatology data. \n",
    "- Calculated aspect from elevation\n",
    "- Assigned a value of 1 to the most desirable climate variables for S. Nutan growing, with the rest of the values scaling down to 0\n",
    "- Multiplying these rasters to plot a map with suitability for S. Nutans in the grassland\n",
    "\n",
    "### References\n",
    "\n",
    "Kane, K., Debinski, D. M., Anderson, C., Scasta, J. D., Engle, D. M., & Miller, J. R. (2017). Using regional climate projections to guide grassland community restoration in the face of climate change. Frontiers in Plant Science, 8, 730.\n",
    "\n",
    "Sorghastrum nutans (L.) Nash in GBIF Secretariat (2023). GBIF Backbone Taxonomy. Checklist dataset https://doi.org/10.15468/39omei accessed via GBIF.org on 2023-12-16.\n",
    "***"
   ]
  },
  {
   "cell_type": "markdown",
   "metadata": {},
   "source": [
    "### Site Description for Pawnee National Grassland\n",
    "\n",
    "Pawnee National Grasslands in northeastern Colorado is a federally protected grassland offering a wide range of opportunity for academic study. It contains over 190,000 acres just 35 miles east of Fort Collins, CO. In the early stages of colonialism in the Americas, these lands were use for grazing populations of large ungulates. The Forest Service in the last 100 years has developed campsites, a water system, and education center (Arapahoe). Grass species are vital for this habitat to remain livable for the animals that inhabit this grassland.\n",
    "\n",
    "### Reference for Grassland Data and Information\n",
    "\n",
    "Arapaho & Roosevelt National Forests Pawnee National Grassland - History & Culture. (n.d.). https://www.fs.usda.gov/detail/arp/learning/history-culture/?cid=fsm91_058308\n",
    "\n",
    "USFS National Grassland Units. (31 July 2019). United States Forest Service. https://www.arcgis.com/home/item.html?id=81d1d8b306e34869bf97fc722b2e7e38\n",
    "***"
   ]
  },
  {
   "cell_type": "markdown",
   "metadata": {},
   "source": [
    "### Site Description for Cimarron National Grassland\n",
    "\n",
    "Cimarron National Grassland is\n",
    "Welcome to the Cimarron National Grassland, one of twenty National Grasslands administered by the U.S. Department of Agriculture Forest Service. Located within Morton and Stevens Counties in southwestern Kansas, the Cimarron National Grassland manages 108,175 acres.\n",
    "\n",
    "### Reference for Grassland Data\n",
    "\n",
    "USFS National Grassland Units. (31 July 2019). United States Forest Service. https://www.arcgis.com/home/item.html?id=81d1d8b306e34869bf97fc722b2e7e38\n",
    "***"
   ]
  },
  {
   "cell_type": "markdown",
   "metadata": {},
   "source": [
    "### Data Description\n",
    "\n",
    "soil: Soil pH data between 0-5 cm, downloaded from POLARIS, with a resoltuion of 30 m is used in this final project. It is constructed using geospatial environmental data and a machine learning algorithm. \n",
    "\n",
    "elevation: The NASA Shuttle Radar Topography Mission (SRTM) dataset is used for elevation data. The purpose of SRTM is to generate a near-global digital elevation model (DEM) of the Earth using radar interferometry. Stated on NASA's website, \"SRTM collected data in swaths, which extend from ~30 degrees off-nadir to ~58 degrees off-nadir from an altitude of 233 kilometers (km). These swaths are ~225 km wide, and consisted of all land between 60° N and 56° S latitude.\"\n",
    "\n",
    "climate: \n",
    "\n",
    "### Citation\n",
    "\n",
    "Soil: Chaney, N. W., Wood, E. F., McBratney, A. B., Hempel, J. W., Nauman, T. W., Brungard, C. W., & Odgers, N. P. (2016). POLARIS: A 30-meter probabilistic soil series map of the contiguous United States. Geoderma, 274, 54–67. USGS Publications Warehouse. https://doi.org/10.1016/j.geoderma.2016.03.025\n",
    "\n",
    "Elevation: NASA JPL (2013). <i>NASA Shuttle Radar Topography Mission Global 1 arc second</i> [Data set]. NASA EOSDIS Land Processes Distributed Active Archive Center. Accessed 2023-12-04 from https://doi.org/10.5067/MEaSUREs/SRTM/SRTMGL1.003\n",
    "\n",
    "Climate: \n",
    "***"
   ]
  },
  {
   "cell_type": "markdown",
   "metadata": {},
   "source": [
    "### Model Description\n",
    "\n",
    "For this assignment, I am implenting a fuzzy logic model. S Nutans is adapted to deep, moist soils with a pH range of 4.8 to 8.0. It has a medium tolerance to salinity and drought (USDA, NRCS 2017; Schmer et al. 2012).\n",
    "\n",
    "S. Nutans grow in these conditions:\n",
    "\n",
    "- pH= 4.8-8.0, for the purpose of this project I will be calculating the model using 6.5 as ideal conditions\n",
    "- aspect= direct sunlight, for the purpose of this project I will be using south facing (180) as ideal conditions\n",
    "- precip= 11-45 in, for the purpose of this project I will be calculating the model using 24 in as ideal conditions\n",
    "\n",
    "All ideal conditions were assigned a value of 1, with all other values scaling down to 0. After pH, aspect, and precipitation are assigned these values, the 3 rasters are multiplied to show varying suitability within the grassland. In this model, we are looking at RCP 4.5 and RCP 8.5 for the year 2050. This model displays the suitability for S. Nutans to survive in Sheyenne National Grassland in the year 2050 under two different climate scenarios.\n",
    "\n",
    "### References\n",
    "\n",
    "Schmer, M., Q. Xue, and J. Hendrickson. 2012. Salinity effects on perennial, warm season (C4) grass germination adapted to the northern great plains. Can. J. Plant Sci. 92:873-881.\n",
    "\n",
    "USDA, NRCS. 2017. The PLANTS Database (http://plants.usda.gov, 19 July 2017). National Plant data Team, Greensboro, NC 27401-4901 USA."
   ]
  }
 ],
 "metadata": {
  "language_info": {
   "name": "python"
  }
 },
 "nbformat": 4,
 "nbformat_minor": 2
}
